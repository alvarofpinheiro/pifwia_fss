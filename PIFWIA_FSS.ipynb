{
  "nbformat": 4,
  "nbformat_minor": 0,
  "metadata": {
    "colab": {
      "name": "PIFWIA_FSS.ipynb",
      "provenance": [],
      "collapsed_sections": [],
      "include_colab_link": true
    },
    "kernelspec": {
      "name": "python3",
      "display_name": "Python 3"
    }
  },
  "cells": [
    {
      "cell_type": "markdown",
      "metadata": {
        "id": "view-in-github",
        "colab_type": "text"
      },
      "source": [
        "<a href=\"https://colab.research.google.com/github/alvarofpinheiro/pifwia_fss/blob/main/PIFWIA_FSS.ipynb\" target=\"_parent\"><img src=\"https://colab.research.google.com/assets/colab-badge.svg\" alt=\"Open In Colab\"/></a>"
      ]
    },
    {
      "cell_type": "markdown",
      "source": [
        "FSS - Fish School Search ou Pesquisa de Cardumes de Peixes é uma metaheurística proposta pelos pesquisadores Fernando Buarque e Carmelo Filho em 2008 para resolver problemas de otimização inspirado no comportamento de cardumes, onde os mecanismos de alimentação e movimento coordenados dos peixes foram usados ​​como inspiração para criar os operadores de busca, tendo como ideia central a de fazer os peixes nadarem em direção ao gradiente positivo para se alimentar e ganhar peso, dessa forma os peixes mais pesados ​​têm mais influência no processo de busca como um todo, o que faz com que o baricentro do cardume se desloque para lugares melhores no espaço de busca ao longo das iterações, onde todos os peixes realizam buscas locais e o cardume agrega informações sociais.\n",
        "\n",
        "Bastos-Filho, C.J.A.; Lima-Neto, F.B.; Lins, A.J.C.C.; Nascimento, A.I.S.; Lima, M.P. A novel search algorithm based on fish school behavior. IEEE Xplore. https://doi.org/10.1109/ICSMC.2008.4811695, 2008."
      ],
      "metadata": {
        "id": "50jCc2Sg8AjK"
      }
    },
    {
      "cell_type": "code",
      "source": [
        "#instala biblioteca Orange Canvas\n",
        "!pip install Orange3"
      ],
      "metadata": {
        "id": "U6iCvPJTqHXj"
      },
      "execution_count": null,
      "outputs": []
    },
    {
      "cell_type": "code",
      "metadata": {
        "id": "olwzacGbnu13"
      },
      "source": [
        "#importa bibliotecas\n",
        "import random\n",
        "import math\n",
        "import matplotlib.pyplot as plt\n",
        "from numpy.random import choice\n",
        "from sklearn import metrics\n",
        "import Orange"
      ],
      "execution_count": null,
      "outputs": []
    },
    {
      "cell_type": "code",
      "source": [
        "#define os hiperparâmetros\n",
        "DIMENSOES = 2 #determina a quantidade de dimensões do problema\n",
        "ITERACOES = 200 #quantiddade máxima de ciclos (episódios) especificando quantas explorações podem ser realizadas\n",
        "CARDUME = 20 #tamanho da população correspondente ao número de peixes no aquário (tamanho do cardume)\n",
        "E1 = -15 #extremo esquerdo eixo x\n",
        "E2 = 15 #extremo direito eixo x\n",
        "E3 = -100 #extremo inferior eixo y\n",
        "E4 = 100 #extremo superior eixo y\n",
        "LIMITES = [E3,E4] #(bound) determina os valores maximos e minimos do espaço de busca (tamenho do aquário)\n",
        "FCUSTO = 'rosenbrock' #(fitness) função custo que pode ser uma esfera ou parábola (rosenbrock) ou outra função custo que defina a densidade de alimentação dos peixes no aquário\n",
        "PASSO_INICIAL = 0.01 #(swimming inicial) conduz os movimentos dos peixes\n",
        "PASSO_FINAL = 0.000001 #(swimming final) conduz os movimentos dos peixes\n",
        "PEIXES = [] #(swarm) array da criação dos peixes"
      ],
      "metadata": {
        "id": "PHFLsXfbvrVr"
      },
      "execution_count": null,
      "outputs": []
    },
    {
      "cell_type": "code",
      "source": [
        "#importa dados\n",
        "from google.colab import files  \n",
        "files.upload()"
      ],
      "metadata": {
        "id": "L17lY466k_ZG"
      },
      "execution_count": null,
      "outputs": []
    },
    {
      "cell_type": "code",
      "source": [
        "#instancia objeto de dados com base no caminho gerado na importação do arquivo\n",
        "dados = Orange.data.Table(\"/content/dados.csv\")"
      ],
      "metadata": {
        "id": "80FBZvQmlLJc"
      },
      "execution_count": null,
      "outputs": []
    },
    {
      "cell_type": "code",
      "source": [
        "#explora os metadados e dados da arquivo importado\n",
        "qtde_campos = len(dados.domain.attributes)\n",
        "qtde_cont = sum(1 for a in dados.domain.attributes if a.is_continuous)\n",
        "qtde_disc = sum(1 for a in dados.domain.attributes if a.is_discrete)\n",
        "print(\"%d metadados: %d continuos, %d discretos\" % (qtde_campos, qtde_cont, qtde_disc))\n",
        "print(\"Nome dos metadados:\", \", \".join(dados.domain.attributes[i].name for i in range(qtde_campos)),)\n",
        "dados.domain.attributes #explora os domínios dos atributos (campos da base de dados)\n",
        "print(\"Qtde de Registros:\", len(dados)) #explora os dados (quantidade de registros da base de dados)\n",
        "i = 0 #exibe os primeiros registros para análise dos dados importados\n",
        "for d in dados[:20]:\n",
        "  i += 1\n",
        "  print(i, d)"
      ],
      "metadata": {
        "id": "4lNjCsXGlZko"
      },
      "execution_count": null,
      "outputs": []
    },
    {
      "cell_type": "code",
      "source": [
        "#cria arrays das dimensões do problema a ser otimizado\n",
        "periodo = []\n",
        "complexidade = [] #1-muito baixa complexidade;2-baixa complexidade;3-média complexidade;4-alta complexidade;e,5-muito alta complexidade\n",
        "pagina = []\n",
        "prazo = []\n",
        "revisao = []\n",
        "entrega = []\n",
        "i = 0\n",
        "for d in dados[:CARDUME]:\n",
        "  periodo.append(d[1])\n",
        "  complexidade.append(d[2])\n",
        "  pagina.append(d[3])\n",
        "  prazo.append(d[4])\n",
        "  revisao.append(d[5])\n",
        "  entrega.append(d[6])\n",
        "  print(\"id:\",i,\"período:\",periodo[i],\"complexidade:\",complexidade[i],\"página:\",pagina[i],\"prazo:\",prazo[i],\"revisões:\",revisao[i],\"entrega:\",entrega[i])\n",
        "  i += 1"
      ],
      "metadata": {
        "id": "s6ibOZfUxDVZ"
      },
      "execution_count": null,
      "outputs": []
    },
    {
      "cell_type": "code",
      "source": [
        "#peixe - unidade base da otimização, posicionado numa determinada posição no espaço de busca do problema, representando uma possível solução para o problema\n",
        "class Peixe:\n",
        "  def __init__(self):\n",
        "    self.posicao = [0.0] * DIMENSOES\n",
        "    self.fitness = 0.0\n",
        "    self.dif_distancia = [0.0] * DIMENSOES\n",
        "    self.dif_fitness = 0.0\n",
        "    self.peso = 1.0"
      ],
      "metadata": {
        "id": "Jvm-OoLejZ9a"
      },
      "execution_count": null,
      "outputs": []
    },
    {
      "cell_type": "code",
      "source": [
        "#função custo ou objetivo ou aptidão ou otimização ou fitness - usada para buscar o melhor ponto dentro de um espaço de buscao (melhor global) sem ficar preso em um melhor local\n",
        "def fitness(problema, posicoes, alfa=0, beta=0):\n",
        "  total = 0.0\n",
        "  if problema == 'rosenbrock':\n",
        "    for i in range(DIMENSOES-1):\n",
        "      total += 100*(posicoes[i+1] - posicoes[i]**2)**2 + (1-posicoes[i])**2\n",
        "  elif problema == 'esfera':\n",
        "    for i in range(DIMENSOES):\n",
        "      total += posicoes[i]**2\n",
        "  elif problema == 'custo':\n",
        "    for i in range(DIMENSOES-1):\n",
        "      total += 1 / abs(sum([coord ** 2 for coord in posicao]))\n",
        "  elif problema == 'rota':\n",
        "    denominador = sum([(caminho.feromonio)**alfa * (1 / caminho.comprimento)**beta for caminho in posicoes])\n",
        "    distribuicao_probabilidades = None\n",
        "    if denominador == 0:\n",
        "      distribuicao_probabilidades = [1 / len(posicoes)  for _ in posicoes]\n",
        "    else:\n",
        "      distribuicao_probabilidades = [((caminho.feromonio)**alfa * (1 / caminho.comprimento)**beta) / denominador for caminho in posicoes]\n",
        "    total = choice(posicoes, 1, p=distribuicao_probabilidades)[0]\n",
        "  else:\n",
        "    print('Problema não encontrado!')\n",
        "  return total"
      ],
      "metadata": {
        "id": "ANwFDHepjzFE"
      },
      "execution_count": null,
      "outputs": []
    },
    {
      "cell_type": "code",
      "source": [
        "#inicializa população (cardume)\n",
        "PEIXES = []\n",
        "for i in range(CARDUME):\n",
        "  cpx = complexidade[i]\n",
        "  pag = pagina[i]\n",
        "  PEIXES.append(Peixe())\n",
        "  posicoes = []\n",
        "  for j in range(DIMENSOES):\n",
        "    if (j == 0):\n",
        "      posicao = cpx\n",
        "    elif (j == 1):\n",
        "      posicao = pag\n",
        "    else:\n",
        "      print('Dimensão não encontrado!')\n",
        "    posicoes.append(posicao)\n",
        "  PEIXES[-1].posicao = posicoes\n",
        "  PEIXES[-1].fitness = fitness(FCUSTO, PEIXES[-1].posicao)\n",
        "for i in range(CARDUME):\n",
        "  print(\"i:\",i,\"posição:\",list(PEIXES[i].posicao),\"otimização:\",PEIXES[i].fitness)"
      ],
      "metadata": {
        "id": "y3NF_RTYje7X"
      },
      "execution_count": null,
      "outputs": []
    },
    {
      "cell_type": "code",
      "source": [
        "#posiciona os perixes no espaço de busca (aquário)\n",
        "print(\"Plano Cartesiano\")\n",
        "plt.axis([E1,E2,E3,E4])\n",
        "plt.plot(0,0, marker='*', markersize=15, color='b')\n",
        "for i in range (CARDUME):\n",
        "  peixe = PEIXES[i]\n",
        "  d1,d2 = zip(peixe.posicao)\n",
        "  plt.plot(d1,d2, marker='o')\n",
        "plt.show()"
      ],
      "metadata": {
        "id": "hoPH974sjiVL"
      },
      "execution_count": null,
      "outputs": []
    },
    {
      "cell_type": "code",
      "source": [
        "#calcula movimento individual - cada peixe escolhe aleatoriamente uma nova posição em sua vizinhança e a avalia com a função aptidão ou objetivo (fitness)\n",
        "def movimento_individual(populacao, passo_atual, problema):\n",
        "  for peixe in populacao:\n",
        "    nova_posicao = []\n",
        "    novo_fitness = 0.0\n",
        "    for dimensao in range(DIMENSOES):\n",
        "      #calcula a nova posicao\n",
        "      direcao = random.random()*2 - 1\n",
        "      mudanca = direcao*passo_atual*(LIMITES[1] - LIMITES[0])\n",
        "      nova_posicao.append(peixe.posicao[dimensao] + mudanca)\n",
        "      #verifica se ultrapassa os limites superior e inferior\n",
        "      if nova_posicao[-1] > LIMITES[1]:\n",
        "        nova_posicao[-1] = LIMITES[1]\n",
        "      elif nova_posicao[-1] < LIMITES[0]:\n",
        "        nova_posicao[-1] = LIMITES[0]         \n",
        "    #verifica o fitness da nova posicao\n",
        "    novo_fitness = fitness(problema, nova_posicao)\n",
        "    #o peixe escolhe a melhor posicao e salva a diferenca de fitness e de posicao\n",
        "    if(novo_fitness < peixe.fitness):\n",
        "      peixe.dif_fitness = peixe.fitness - novo_fitness\n",
        "      peixe.fitness = novo_fitness\n",
        "      for dim in range(DIMENSOES):\n",
        "        peixe.dif_distancia[dim] = nova_posicao[dim] - peixe.posicao[dim]\n",
        "        peixe.posicao[dim] = nova_posicao[dim]\n",
        "    else:\n",
        "      peixe.dif_fitness = 0\n",
        "      for dim in range(DIMENSOES):\n",
        "        peixe.dif_distancia[dim] = 0"
      ],
      "metadata": {
        "id": "TT0e_OxPj_4_"
      },
      "execution_count": null,
      "outputs": []
    },
    {
      "cell_type": "code",
      "source": [
        "#calcula movimento instintivo - somente peixes que realizaram movimentos individuais com sucesso poderão determinar a direção do movimento do cardume (swimming)\n",
        "def movimento_instintivo(populacao):\n",
        "  total_diferenca_fitness = 0.0\n",
        "  vetor_i = [0.0] * DIMENSOES\n",
        "  for peixe in populacao:\n",
        "    total_diferenca_fitness += peixe.dif_fitness\n",
        "    for i in range(DIMENSOES):\n",
        "      vetor_i[i] += peixe.dif_distancia[i]*peixe.dif_fitness\n",
        "  if total_diferenca_fitness != 0:\n",
        "    for i in range(DIMENSOES):\n",
        "      vetor_i[i] /= total_diferenca_fitness\n",
        "    for peixe in populacao:\n",
        "      for i in range(DIMENSOES):\n",
        "        peixe.posicao[i] += vetor_i[i]\n",
        "        #verifica se ultrapassa os limites superior e inferior\n",
        "        if peixe.posicao[i] > LIMITES[1]:\n",
        "          peixe.posicao[i] = LIMITES[1]\n",
        "        elif peixe.posicao[i] < LIMITES[0]:\n",
        "          peixe.posicao[i] = LIMITES[0]"
      ],
      "metadata": {
        "id": "DyCai-C4kupw"
      },
      "execution_count": null,
      "outputs": []
    },
    {
      "cell_type": "code",
      "source": [
        "#calcula movimento volitivo - poder de escolha baseado na taxa geral de sucesso do cardume (swimming)\n",
        "def movimento_volitivo(populacao, baricentro, mudanca_peso, passo):\n",
        "  for peixe in populacao:\n",
        "    for i in range(DIMENSOES):\n",
        "      direcao = random.random()\n",
        "      if mudanca_peso < 0:\n",
        "        peixe.posicao[i] -= 2*passo*direcao*(LIMITES[1] - LIMITES[0])* ((peixe.posicao[i] - baricentro[i])/distancia(peixe.posicao, baricentro))\n",
        "      else:\n",
        "        peixe.posicao[i] += 2*passo*direcao*(LIMITES[1] - LIMITES[0])* ((peixe.posicao[i] - baricentro[i])/distancia(peixe.posicao, baricentro))\n",
        "      #verifica se ultrapassa os limites superior e inferior\n",
        "      if peixe.posicao[i] > LIMITES[1]:\n",
        "        peixe.posicao[i] = LIMITES[1]\n",
        "      elif peixe.posicao[i] < LIMITES[0]:\n",
        "        peixe.posicao[i] = LIMITES[0]"
      ],
      "metadata": {
        "id": "6iSeDHGxn-IG"
      },
      "execution_count": null,
      "outputs": []
    },
    {
      "cell_type": "code",
      "source": [
        "#calcula operação de alimentação - cada peixe pode aumentar seu peso dependendo da taxa de sucesso obtida pelo movimento indiviaul (feeding)\n",
        "def alimentacao(populacao):\n",
        "  maior_diferenca_fitness = 0\n",
        "  mudanca_peso = 0\n",
        "  for peixe in populacao:\n",
        "    mudanca_peso += peixe.peso\n",
        "    if peixe.dif_fitness > maior_diferenca_fitness:\n",
        "      maior_diferenca_fitness = peixe.dif_fitness\n",
        "  if maior_diferenca_fitness != 0:\n",
        "    for peixe in populacao:\n",
        "      peixe.peso += peixe.dif_fitness/maior_diferenca_fitness\n",
        "      mudanca_peso -= peixe.peso\n",
        "    return mudanca_peso\n",
        "  else:\n",
        "    return 0"
      ],
      "metadata": {
        "id": "Squ4jhVOkQD7"
      },
      "execution_count": null,
      "outputs": []
    },
    {
      "cell_type": "code",
      "source": [
        "#calcula baricentro - ponto de aplicação da força de gravidade de acordo com a força-peso (memória do cardume)\n",
        "def calcular_baricentro(populacao):\n",
        "  baricentro = [0.0] * DIMENSOES\n",
        "  peso_total = 0.0\n",
        "  for peixe in populacao:\n",
        "    peso_total += peixe.peso\n",
        "    for i in range(DIMENSOES):\n",
        "      baricentro[i] += peixe.peso * peixe.posicao[i]\n",
        "  for i in range(DIMENSOES):\n",
        "    baricentro[i] /= peso_total\n",
        "  return baricentro"
      ],
      "metadata": {
        "id": "U9o65WOznNxn"
      },
      "execution_count": null,
      "outputs": []
    },
    {
      "cell_type": "code",
      "source": [
        "#calcula distância\n",
        "def distancia(lista_1, lista_2):\n",
        "  dist = 0.0\n",
        "  for i in range(len(lista_1)):\n",
        "    dist += (lista_1[i] - lista_2[i])**2\n",
        "  return math.sqrt(dist)"
      ],
      "metadata": {
        "id": "vnUC4lcZn7mV"
      },
      "execution_count": null,
      "outputs": []
    },
    {
      "cell_type": "code",
      "metadata": {
        "id": "ZlWGxSfArT-Y"
      },
      "source": [
        "#atualiza passo - conduz os movimentos dos peixes\n",
        "def atualizar_passo(passo):\n",
        "    return passo - ((PASSO_INICIAL - PASSO_FINAL) / ITERACOES)"
      ],
      "execution_count": null,
      "outputs": []
    },
    {
      "cell_type": "code",
      "metadata": {
        "id": "sGMYmfyw4_tm"
      },
      "source": [
        "#otimiza as posições\n",
        "passo = PASSO_INICIAL\n",
        "melhor_fitness = 999999999999\n",
        "fitness_tempo = []\n",
        "populacao = PEIXES\n",
        "#print(\"Melhor fitness inicial: \", melhor_fitness)\n",
        "for i in range(ITERACOES):\n",
        "  print(\"Iteração: {:.0f}\".format(i+1))\n",
        "  movimento_individual(populacao, passo, FCUSTO)\n",
        "  mudanca_peso = alimentacao(populacao)\n",
        "  movimento_instintivo(populacao)\n",
        "  baricentro = calcular_baricentro(populacao)\n",
        "  movimento_volitivo(populacao, baricentro, mudanca_peso, passo)\n",
        "  passo = atualizar_passo(passo)\n",
        "  plt.axis([E1,E2,E3,E4])\n",
        "  plt.plot(0,0, marker='*', markersize=10, color='b')\n",
        "  for i in range(CARDUME):\n",
        "    populacao[i].fitness = fitness(FCUSTO, populacao[i].posicao)\n",
        "  for i in populacao:\n",
        "    if melhor_fitness > i.fitness:\n",
        "      melhor_fitness = i.fitness\n",
        "  fitness_tempo.append(melhor_fitness)\n",
        "  #exibe o enxame - mostrando no gráfico as posições atuais de cada paixe no aquário\n",
        "  for i in range (CARDUME):\n",
        "    p = populacao[i]\n",
        "    d1,d2 = zip(p.posicao)\n",
        "    plt.plot(d1,d2, marker='o')\n",
        "  #plt.plot(melhor_fitness, marker='x', markersize=15, color='r') #ponto gbest\n",
        "  plt.show()\n",
        "  print('Melhor Ponto:',melhor_fitness)\n",
        "  print(\"\")\n",
        "#print(\"Melhor fitness final: \", melhor_fitness)"
      ],
      "execution_count": null,
      "outputs": []
    },
    {
      "cell_type": "code",
      "source": [
        "#exibe a curva de convergência dos peixes\n",
        "x = []\n",
        "y = []\n",
        "for i in range(len(fitness_tempo)):\n",
        "  x.append(i)\n",
        "  y.append(fitness_tempo[i])\n",
        "plt.plot(x, y)\n",
        "plt.title(\"Curva de Convergência do FSS\")\n",
        "plt.xlabel(\"Iterações\")\n",
        "plt.ylabel(\"Tempo\")\n",
        "plt.tight_layout()"
      ],
      "metadata": {
        "id": "N2LWkiIowhnd"
      },
      "execution_count": null,
      "outputs": []
    },
    {
      "cell_type": "code",
      "source": [
        "#exibe das posições e otimizações calculadas\n",
        "posicao_inicial = []\n",
        "posicao_otimizada = []\n",
        "for i in range(CARDUME):\n",
        "  posicao_inicial.append(PEIXES[i].posicao)\n",
        "  posicao_otimizada.append(PEIXES[i].fitness)\n",
        "  print(\"i:\",i,\"posição:\",posicao_inicial[i],\"otimização:\",posicao_otimizada[i])\n",
        "#y = []\n",
        "#ỹ = []\n",
        "#for i in range(CARDUME):\n",
        "#  y.append(int(PEIXES[i].posicao[0]))\n",
        "#  ỹ.append(int(PEIXES[i].fitness))\n",
        "#print('A:', metrics.accuracy_score(y,ỹ))\n",
        "#print('P:', metrics.precision_score(y,ỹ,average='macro'))\n",
        "#print('R:', metrics.recall_score(y,ỹ,average='macro'))\n",
        "#print('F:', metrics.f1_score(y,ỹ,average='macro'))"
      ],
      "metadata": {
        "id": "HY1DjBq6iVPJ"
      },
      "execution_count": null,
      "outputs": []
    }
  ]
}